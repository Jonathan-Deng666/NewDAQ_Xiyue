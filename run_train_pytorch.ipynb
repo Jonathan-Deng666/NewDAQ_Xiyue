{
  "nbformat": 4,
  "nbformat_minor": 5,
  "metadata": {
    "accelerator": "GPU",
    "colab": {
      "name": "run_train_pytorch.ipynb",
      "provenance": [],
      "collapsed_sections": [],
      "machine_shape": "hm"
    },
    "kernelspec": {
      "display_name": "Python 3",
      "language": "python",
      "name": "python3"
    },
    "language_info": {
      "codemirror_mode": {
        "name": "ipython",
        "version": 3
      },
      "file_extension": ".py",
      "mimetype": "text/x-python",
      "name": "python",
      "nbconvert_exporter": "python",
      "pygments_lexer": "ipython3",
      "version": "3.7.3"
    },
    "toc": {
      "base_numbering": 1,
      "nav_menu": {},
      "number_sections": true,
      "sideBar": true,
      "skip_h1_title": false,
      "title_cell": "Table of Contents",
      "title_sidebar": "Contents",
      "toc_cell": false,
      "toc_position": {},
      "toc_section_display": true,
      "toc_window_display": false
    }
  },
  "cells": [
    {
      "cell_type": "markdown",
      "metadata": {
        "id": "d_9rJ2iX4HCi"
      },
      "source": [
        "# DeepLOB: Deep Convolutional Neural Networks for Limit Order Books\n",
        "\n",
        "### Xiyue Deng\n",
        "\n",
        "### This notebook runs on Pytorch 1.9.0."
      ],
      "id": "d_9rJ2iX4HCi"
    },
    {
      "cell_type": "code",
      "metadata": {
        "id": "T0JTkuPz4HCv"
      },
      "source": [
        "# load packages\n",
        "import pandas as pd\n",
        "import pickle\n",
        "import numpy as np\n",
        "import matplotlib.pyplot as plt\n",
        "from datetime import datetime\n",
        "from tqdm import tqdm \n",
        "from sklearn.metrics import accuracy_score, classification_report\n",
        "from sklearn import preprocessing\n",
        "\n",
        "import torch\n",
        "import torch.nn.functional as F\n",
        "from torch.utils import data\n",
        "from torchinfo import summary\n",
        "import torch.nn as nn\n",
        "import torch.optim as optim\n",
        "# from sklearn.model_selection import train_test_split\n",
        "# X_train, X_test, y_train, y_test = train_test_split(data.data, data.target, test_size=0.33)\n",
        "# N, D = X_train.shape"
      ],
      "id": "T0JTkuPz4HCv",
      "execution_count": 6,
      "outputs": []
    },
    {
      "cell_type": "code",
      "metadata": {
        "colab": {
          "base_uri": "https://localhost:8080/"
        },
        "id": "OwxCkAxh4HCy",
        "outputId": "369c3a0f-fe81-499f-c5f8-d5fc77b3a6b0"
      },
      "source": [
        "device = torch.device(\"cuda:0\" if torch.cuda.is_available() else \"cpu\")\n",
        "print(device)"
      ],
      "id": "OwxCkAxh4HCy",
      "execution_count": 7,
      "outputs": [
        {
          "output_type": "stream",
          "name": "stdout",
          "text": [
            "cuda:0\n"
          ]
        }
      ]
    },
    {
      "cell_type": "code",
      "metadata": {
        "id": "9qy0ZoHS4HCz"
      },
      "source": [
        "def get_y(data, names, windows_k):\n",
        "    data_normalized = preprocessing.normalize(data, axis = 0)#otherwise (if 0) normalize each feature\n",
        "    data_normalized = pd.DataFrame(data_normalized, columns=names)\n",
        "    data_normalized['mid_price'] = (data_normalized['bid1'] + data_normalized['ask1'])/2\n",
        "    data_normalized['m_t'] = data_normalized['mid_price'].rolling(windows_k).mean()\n",
        "    #input the Nan value with the first one:\n",
        "    #data_normalized['m_t'][:windows_k-1] = data_normalized['m_t'][windows_k-1]\n",
        "    data_normalized['m_t+'] = data_normalized['m_t'].shift(-windows_k)\n",
        "    data_normalized['l'] = data_normalized['m_t+']/data_normalized['m_t'] - 1\n",
        "    #threshold is setted as 75% quantile\n",
        "    a = data_normalized['l'].describe()['75%']\n",
        "    data_normalized['label'] = np.zeros(len(data_normalized['l']))\n",
        "    data_normalized['label'][data_normalized['l'] > a] = 1\n",
        "    data_normalized['label'][data_normalized['l'] < -a] = -1\n",
        "    y = data_normalized['label']\n",
        "    data_normalized_x = data_normalized.drop(['mid_price', 'm_t', 'm_t+', 'l', 'label'], axis = 1)\n",
        "    return data_normalized_x, y\n",
        "\n",
        "def data_classification(X, Y, T):\n",
        "    [N, D] = X.shape\n",
        "    df = np.array(X)\n",
        "\n",
        "    dY = np.array(Y)\n",
        "\n",
        "    dataY = dY[T - 1:N]\n",
        "\n",
        "    dataX = np.zeros((N - T + 1, T, D))\n",
        "    for i in range(T, N + 1):\n",
        "        dataX[i - T] = df[i - T:i, :]\n",
        "\n",
        "    return dataX, dataY\n",
        "\n",
        "def torch_data(x, y):\n",
        "    x = torch.from_numpy(x)\n",
        "    x = torch.unsqueeze(x, 1)\n",
        "    y = torch.from_numpy(y)\n",
        "    y = F.one_hot(y, num_classes=3)\n",
        "    return x, y"
      ],
      "id": "9qy0ZoHS4HCz",
      "execution_count": 8,
      "outputs": []
    },
    {
      "cell_type": "code",
      "metadata": {
        "id": "9mzfcKCn4HC1"
      },
      "source": [
        "class Dataset(data.Dataset):\n",
        "    \"\"\"Characterizes a dataset for PyTorch\"\"\"\n",
        "    def __init__(self, data, k, num_classes, T, names, windows_k):\n",
        "        \"\"\"Initialization\"\"\" \n",
        "        self.k = k\n",
        "        self.num_classes = num_classes\n",
        "        self.T = T\n",
        "        self.windows_k = windows_k\n",
        "        self.names = names\n",
        "        \n",
        "        x, y = get_y(data, self.names, self.windows_k)\n",
        "        y = y + 1.0  #since pytorch can not distinguish -1.0\n",
        "        x, y = data_classification(x, y, self.T)\n",
        "        self.length = len(x)\n",
        "\n",
        "        x = torch.from_numpy(x)\n",
        "        self.x = torch.unsqueeze(x, 1)\n",
        "        self.y = torch.from_numpy(y)\n",
        "\n",
        "    def __len__(self):\n",
        "        \"\"\"Denotes the total number of samples\"\"\"\n",
        "        return self.length\n",
        "\n",
        "    def __getitem__(self, index):\n",
        "        \"\"\"Generates samples of data\"\"\"\n",
        "        return self.x[index], self.y[index]"
      ],
      "id": "9mzfcKCn4HC1",
      "execution_count": 9,
      "outputs": []
    },
    {
      "cell_type": "markdown",
      "metadata": {
        "id": "mdbLEeC94HC4"
      },
      "source": [
        "# Data preparation"
      ],
      "id": "mdbLEeC94HC4"
    },
    {
      "cell_type": "code",
      "metadata": {
        "id": "pZv0E-yBMELb"
      },
      "source": [
        "date = ['20210201', '20210202', '20210203', '20210204', '20210205', '20210208',\n",
        "       '20210209', '20210210', '20210218', '20210219']\n",
        "df1 = pd.read_csv('./20210201_pp2105.csv')\n",
        "df2 = pd.read_csv('./20210202_pp2105.csv')\n",
        "df = pd.concat([df1, df2], ignore_index=True)\n",
        "\n",
        "for i in range(len(date) - 1):\n",
        "    df_temp = pd.read_csv('./' + date[i + 1] + '_pp2105.csv')\n",
        "    df = pd.concat([df_temp, df], ignore_index=True)"
      ],
      "id": "pZv0E-yBMELb",
      "execution_count": 12,
      "outputs": []
    },
    {
      "cell_type": "code",
      "metadata": {
        "id": "Z2YjlEHCMIc0"
      },
      "source": [
        "#data = pd.read_csv('./pp/20210201_pp2105.csv')\n",
        "data = df\n",
        "df_train = data.iloc[:int(np.floor(data.shape[0] * 0.8)), :]\n",
        "df_val = data.iloc[int(np.floor(data.shape[0] * 0.8)):, :]\n",
        "\n",
        "df_test = pd.read_csv('./20210222_pp2105.csv')"
      ],
      "id": "Z2YjlEHCMIc0",
      "execution_count": 13,
      "outputs": []
    },
    {
      "cell_type": "code",
      "metadata": {
        "colab": {
          "base_uri": "https://localhost:8080/"
        },
        "id": "dkG3kQQ84HC7",
        "outputId": "99b813c5-3d1b-4a71-8fcc-20ea032cb3a5"
      },
      "source": [
        "df_train.columns"
      ],
      "id": "dkG3kQQ84HC7",
      "execution_count": 14,
      "outputs": [
        {
          "output_type": "execute_result",
          "data": {
            "text/plain": [
              "Index(['unix', 'time', 'instrument', 'last', 'accvolume', 'accturnover',\n",
              "       'openint', 'bid1', 'bidSize1', 'ask1', 'askSize1', 'bid2', 'bidSize2',\n",
              "       'ask2', 'askSize2', 'bid3', 'bidSize3', 'ask3', 'askSize3', 'bid4',\n",
              "       'bidSize4', 'ask4', 'askSize4', 'bid5', 'bidSize5', 'ask5', 'askSize5',\n",
              "       'high', 'low'],\n",
              "      dtype='object')"
            ]
          },
          "metadata": {},
          "execution_count": 14
        }
      ]
    },
    {
      "cell_type": "code",
      "metadata": {
        "id": "ph5nNPQK4HC8"
      },
      "source": [
        "names = ['bid1', 'bidSize1', 'ask1', 'askSize1', 'bid2', 'bidSize2',\n",
        "       'ask2', 'askSize2', 'bid3', 'bidSize3', 'ask3', 'askSize3', 'bid4',\n",
        "       'bidSize4', 'ask4', 'askSize4', 'bid5', 'bidSize5', 'ask5', 'askSize5']"
      ],
      "id": "ph5nNPQK4HC8",
      "execution_count": 15,
      "outputs": []
    },
    {
      "cell_type": "markdown",
      "metadata": {
        "id": "jT44P7WV4HC9"
      },
      "source": [
        "## Y:"
      ],
      "id": "jT44P7WV4HC9"
    },
    {
      "cell_type": "code",
      "metadata": {
        "colab": {
          "base_uri": "https://localhost:8080/"
        },
        "id": "l93LXJsw4HC-",
        "outputId": "d0fe4036-d54f-4077-d613-350de06132d2"
      },
      "source": [
        "x_train = np.array(df_train[names])\n",
        "x_val = np.array(df_val[names])\n",
        "x_test = np.array(df_test[names])\n",
        "\n",
        "print(x_train.shape, x_val.shape, x_test.shape)"
      ],
      "id": "l93LXJsw4HC-",
      "execution_count": 16,
      "outputs": [
        {
          "output_type": "stream",
          "name": "stdout",
          "text": [
            "(576056, 20) (144014, 20) (75855, 20)\n"
          ]
        }
      ]
    },
    {
      "cell_type": "markdown",
      "metadata": {
        "id": "5m2vhSoH4HC-"
      },
      "source": [
        "since in the article, the model uses 5-days normalisation -- a dynamical normalisation scheme. Here I only consider one-day sample so I only use static normalisation scheme but for a long period I will turn it into dynamic one."
      ],
      "id": "5m2vhSoH4HC-"
    },
    {
      "cell_type": "code",
      "metadata": {
        "colab": {
          "base_uri": "https://localhost:8080/"
        },
        "id": "m9CLiKmZ4HC_",
        "outputId": "530a58a9-9df6-48ab-bc46-fcf99e262f7c"
      },
      "source": [
        "batch_size = 64\n",
        "\n",
        "dataset_train = Dataset(data=x_train, k=4, num_classes=3, T=100, names = names, windows_k = 5)\n",
        "dataset_val = Dataset(data=x_val, k=4, num_classes=3, T=100, names = names, windows_k = 5)\n",
        "dataset_test = Dataset(data=x_test, k=4, num_classes=3, T=100, names = names, windows_k = 5)\n",
        "\n",
        "train_loader = torch.utils.data.DataLoader(dataset=dataset_train, batch_size=batch_size, shuffle=True)\n",
        "val_loader = torch.utils.data.DataLoader(dataset=dataset_val, batch_size=batch_size, shuffle=False)\n",
        "test_loader = torch.utils.data.DataLoader(dataset=dataset_test, batch_size=batch_size, shuffle=False)\n",
        "\n",
        "print(dataset_train.x.shape, dataset_train.y.shape)"
      ],
      "id": "m9CLiKmZ4HC_",
      "execution_count": 17,
      "outputs": [
        {
          "output_type": "stream",
          "name": "stdout",
          "text": [
            "torch.Size([575957, 1, 100, 20]) torch.Size([575957])\n"
          ]
        }
      ]
    },
    {
      "cell_type": "code",
      "metadata": {
        "colab": {
          "base_uri": "https://localhost:8080/"
        },
        "id": "yInXn22r4HDA",
        "scrolled": true,
        "outputId": "7a697b61-e0fe-406f-c631-8c737be79715"
      },
      "source": [
        "tmp_loader = torch.utils.data.DataLoader(dataset=dataset_train, batch_size=1, shuffle=True)\n",
        "\n",
        "for x, y in tmp_loader:\n",
        "    print(x)\n",
        "    print(y)\n",
        "    print(x.shape, y.shape)\n",
        "    break"
      ],
      "id": "yInXn22r4HDA",
      "execution_count": 18,
      "outputs": [
        {
          "output_type": "stream",
          "name": "stdout",
          "text": [
            "tensor([[[[0.0013, 0.0005, 0.0013,  ..., 0.0007, 0.0013, 0.0003],\n",
            "          [0.0013, 0.0008, 0.0013,  ..., 0.0007, 0.0013, 0.0002],\n",
            "          [0.0013, 0.0001, 0.0013,  ..., 0.0003, 0.0013, 0.0003],\n",
            "          ...,\n",
            "          [0.0013, 0.0007, 0.0013,  ..., 0.0010, 0.0013, 0.0005],\n",
            "          [0.0013, 0.0007, 0.0013,  ..., 0.0010, 0.0013, 0.0005],\n",
            "          [0.0013, 0.0006, 0.0013,  ..., 0.0010, 0.0013, 0.0006]]]],\n",
            "       dtype=torch.float64)\n",
            "tensor([2.], dtype=torch.float64)\n",
            "torch.Size([1, 1, 100, 20]) torch.Size([1])\n"
          ]
        }
      ]
    },
    {
      "cell_type": "markdown",
      "metadata": {
        "id": "EMi4Gafq4HDA"
      },
      "source": [
        "# Model Architecture\n"
      ],
      "id": "EMi4Gafq4HDA"
    },
    {
      "cell_type": "code",
      "metadata": {
        "id": "T23zwhsO4HDA"
      },
      "source": [
        "class deeplob(nn.Module):\n",
        "    def __init__(self, y_len):\n",
        "        super().__init__()\n",
        "        self.y_len = y_len\n",
        "        \n",
        "        # convolution blocks\n",
        "        self.conv1 = nn.Sequential(\n",
        "            nn.Conv2d(in_channels=1, out_channels=32, kernel_size=(1,2), stride=(1,2)),\n",
        "            nn.LeakyReLU(negative_slope=0.01),\n",
        "#             nn.Tanh(),\n",
        "            nn.BatchNorm2d(32),\n",
        "            nn.Conv2d(in_channels=32, out_channels=32, kernel_size=(4,1)),\n",
        "            nn.LeakyReLU(negative_slope=0.01),\n",
        "            nn.BatchNorm2d(32),\n",
        "            nn.Conv2d(in_channels=32, out_channels=32, kernel_size=(4,1)),\n",
        "            nn.LeakyReLU(negative_slope=0.01),\n",
        "            nn.BatchNorm2d(32),\n",
        "        )\n",
        "        self.conv2 = nn.Sequential(\n",
        "            nn.Conv2d(in_channels=32, out_channels=32, kernel_size=(1,2), stride=(1,2)),\n",
        "            nn.Tanh(),\n",
        "            nn.BatchNorm2d(32),\n",
        "            nn.Conv2d(in_channels=32, out_channels=32, kernel_size=(4,1)),\n",
        "            nn.Tanh(),\n",
        "            nn.BatchNorm2d(32),\n",
        "            nn.Conv2d(in_channels=32, out_channels=32, kernel_size=(4,1)),\n",
        "            nn.Tanh(),\n",
        "            nn.BatchNorm2d(32),\n",
        "        )\n",
        "        self.conv3 = nn.Sequential(\n",
        "            #nn.Conv2d(in_channels=32, out_channels=32, kernel_size=(1,10)),\n",
        "            nn.Conv2d(in_channels=32, out_channels=32, kernel_size=(1,5)),\n",
        "            nn.LeakyReLU(negative_slope=0.01),\n",
        "            nn.BatchNorm2d(32),\n",
        "            nn.Conv2d(in_channels=32, out_channels=32, kernel_size=(4,1)),\n",
        "            nn.LeakyReLU(negative_slope=0.01),\n",
        "            nn.BatchNorm2d(32),\n",
        "            nn.Conv2d(in_channels=32, out_channels=32, kernel_size=(4,1)),\n",
        "            nn.LeakyReLU(negative_slope=0.01),\n",
        "            nn.BatchNorm2d(32),\n",
        "        )\n",
        "        \n",
        "        # inception moduels\n",
        "        self.inp1 = nn.Sequential(\n",
        "            nn.Conv2d(in_channels=32, out_channels=64, kernel_size=(1,1), padding='same'),\n",
        "            nn.LeakyReLU(negative_slope=0.01),\n",
        "            nn.BatchNorm2d(64),\n",
        "            nn.Conv2d(in_channels=64, out_channels=64, kernel_size=(3,1), padding='same'),\n",
        "            nn.LeakyReLU(negative_slope=0.01),\n",
        "            nn.BatchNorm2d(64),\n",
        "        )\n",
        "        self.inp2 = nn.Sequential(\n",
        "            nn.Conv2d(in_channels=32, out_channels=64, kernel_size=(1,1), padding='same'),\n",
        "            nn.LeakyReLU(negative_slope=0.01),\n",
        "            nn.BatchNorm2d(64),\n",
        "            nn.Conv2d(in_channels=64, out_channels=64, kernel_size=(5,1), padding='same'),\n",
        "            nn.LeakyReLU(negative_slope=0.01),\n",
        "            nn.BatchNorm2d(64),\n",
        "        )\n",
        "        self.inp3 = nn.Sequential(\n",
        "            nn.MaxPool2d((3, 1), stride=(1, 1), padding=(1, 0)),\n",
        "            nn.Conv2d(in_channels=32, out_channels=64, kernel_size=(1,1), padding='same'),\n",
        "            nn.LeakyReLU(negative_slope=0.01),\n",
        "            nn.BatchNorm2d(64),\n",
        "        )\n",
        "        \n",
        "        # lstm layers\n",
        "        self.lstm = nn.LSTM(input_size=192, hidden_size=64, num_layers=1, batch_first=True)\n",
        "        self.fc1 = nn.Linear(64, self.y_len)\n",
        "\n",
        "    def forward(self, x):\n",
        "        # h0: (number of hidden layers, batch size, hidden size)\n",
        "        h0 = torch.zeros(1, x.size(0), 64).to(device)\n",
        "        c0 = torch.zeros(1, x.size(0), 64).to(device)\n",
        "    \n",
        "        x = self.conv1(x)\n",
        "        x = self.conv2(x)\n",
        "        x = self.conv3(x)\n",
        "        \n",
        "        x_inp1 = self.inp1(x)\n",
        "        x_inp2 = self.inp2(x)\n",
        "        x_inp3 = self.inp3(x)  \n",
        "        \n",
        "        x = torch.cat((x_inp1, x_inp2, x_inp3), dim=1)\n",
        "        \n",
        "#         x = torch.transpose(x, 1, 2)\n",
        "        x = x.permute(0, 2, 1, 3)\n",
        "        x = torch.reshape(x, (-1, x.shape[1], x.shape[2]))\n",
        "        \n",
        "        x, _ = self.lstm(x, (h0, c0))\n",
        "        x = x[:, -1, :]\n",
        "        x = self.fc1(x)\n",
        "        forecast_y = torch.softmax(x, dim=1)\n",
        "        \n",
        "        return forecast_y"
      ],
      "id": "T23zwhsO4HDA",
      "execution_count": 19,
      "outputs": []
    },
    {
      "cell_type": "code",
      "metadata": {
        "colab": {
          "base_uri": "https://localhost:8080/"
        },
        "id": "6vimolfp4HDC",
        "scrolled": true,
        "outputId": "26e47119-f833-4a1c-a3af-668900897915"
      },
      "source": [
        "model = deeplob(y_len = dataset_train.num_classes)\n",
        "model.to(device)"
      ],
      "id": "6vimolfp4HDC",
      "execution_count": 20,
      "outputs": [
        {
          "output_type": "execute_result",
          "data": {
            "text/plain": [
              "deeplob(\n",
              "  (conv1): Sequential(\n",
              "    (0): Conv2d(1, 32, kernel_size=(1, 2), stride=(1, 2))\n",
              "    (1): LeakyReLU(negative_slope=0.01)\n",
              "    (2): BatchNorm2d(32, eps=1e-05, momentum=0.1, affine=True, track_running_stats=True)\n",
              "    (3): Conv2d(32, 32, kernel_size=(4, 1), stride=(1, 1))\n",
              "    (4): LeakyReLU(negative_slope=0.01)\n",
              "    (5): BatchNorm2d(32, eps=1e-05, momentum=0.1, affine=True, track_running_stats=True)\n",
              "    (6): Conv2d(32, 32, kernel_size=(4, 1), stride=(1, 1))\n",
              "    (7): LeakyReLU(negative_slope=0.01)\n",
              "    (8): BatchNorm2d(32, eps=1e-05, momentum=0.1, affine=True, track_running_stats=True)\n",
              "  )\n",
              "  (conv2): Sequential(\n",
              "    (0): Conv2d(32, 32, kernel_size=(1, 2), stride=(1, 2))\n",
              "    (1): Tanh()\n",
              "    (2): BatchNorm2d(32, eps=1e-05, momentum=0.1, affine=True, track_running_stats=True)\n",
              "    (3): Conv2d(32, 32, kernel_size=(4, 1), stride=(1, 1))\n",
              "    (4): Tanh()\n",
              "    (5): BatchNorm2d(32, eps=1e-05, momentum=0.1, affine=True, track_running_stats=True)\n",
              "    (6): Conv2d(32, 32, kernel_size=(4, 1), stride=(1, 1))\n",
              "    (7): Tanh()\n",
              "    (8): BatchNorm2d(32, eps=1e-05, momentum=0.1, affine=True, track_running_stats=True)\n",
              "  )\n",
              "  (conv3): Sequential(\n",
              "    (0): Conv2d(32, 32, kernel_size=(1, 5), stride=(1, 1))\n",
              "    (1): LeakyReLU(negative_slope=0.01)\n",
              "    (2): BatchNorm2d(32, eps=1e-05, momentum=0.1, affine=True, track_running_stats=True)\n",
              "    (3): Conv2d(32, 32, kernel_size=(4, 1), stride=(1, 1))\n",
              "    (4): LeakyReLU(negative_slope=0.01)\n",
              "    (5): BatchNorm2d(32, eps=1e-05, momentum=0.1, affine=True, track_running_stats=True)\n",
              "    (6): Conv2d(32, 32, kernel_size=(4, 1), stride=(1, 1))\n",
              "    (7): LeakyReLU(negative_slope=0.01)\n",
              "    (8): BatchNorm2d(32, eps=1e-05, momentum=0.1, affine=True, track_running_stats=True)\n",
              "  )\n",
              "  (inp1): Sequential(\n",
              "    (0): Conv2d(32, 64, kernel_size=(1, 1), stride=(1, 1), padding=same)\n",
              "    (1): LeakyReLU(negative_slope=0.01)\n",
              "    (2): BatchNorm2d(64, eps=1e-05, momentum=0.1, affine=True, track_running_stats=True)\n",
              "    (3): Conv2d(64, 64, kernel_size=(3, 1), stride=(1, 1), padding=same)\n",
              "    (4): LeakyReLU(negative_slope=0.01)\n",
              "    (5): BatchNorm2d(64, eps=1e-05, momentum=0.1, affine=True, track_running_stats=True)\n",
              "  )\n",
              "  (inp2): Sequential(\n",
              "    (0): Conv2d(32, 64, kernel_size=(1, 1), stride=(1, 1), padding=same)\n",
              "    (1): LeakyReLU(negative_slope=0.01)\n",
              "    (2): BatchNorm2d(64, eps=1e-05, momentum=0.1, affine=True, track_running_stats=True)\n",
              "    (3): Conv2d(64, 64, kernel_size=(5, 1), stride=(1, 1), padding=same)\n",
              "    (4): LeakyReLU(negative_slope=0.01)\n",
              "    (5): BatchNorm2d(64, eps=1e-05, momentum=0.1, affine=True, track_running_stats=True)\n",
              "  )\n",
              "  (inp3): Sequential(\n",
              "    (0): MaxPool2d(kernel_size=(3, 1), stride=(1, 1), padding=(1, 0), dilation=1, ceil_mode=False)\n",
              "    (1): Conv2d(32, 64, kernel_size=(1, 1), stride=(1, 1), padding=same)\n",
              "    (2): LeakyReLU(negative_slope=0.01)\n",
              "    (3): BatchNorm2d(64, eps=1e-05, momentum=0.1, affine=True, track_running_stats=True)\n",
              "  )\n",
              "  (lstm): LSTM(192, 64, batch_first=True)\n",
              "  (fc1): Linear(in_features=64, out_features=3, bias=True)\n",
              ")"
            ]
          },
          "metadata": {},
          "execution_count": 20
        }
      ]
    },
    {
      "cell_type": "code",
      "metadata": {
        "colab": {
          "base_uri": "https://localhost:8080/"
        },
        "id": "LmurW1qT4HDC",
        "scrolled": true,
        "outputId": "b66fbdfe-5710-441e-af4e-6dec95c3d880"
      },
      "source": [
        "summary(model, (1, 1, 100, 20))"
      ],
      "id": "LmurW1qT4HDC",
      "execution_count": 21,
      "outputs": [
        {
          "output_type": "stream",
          "name": "stderr",
          "text": [
            "/usr/local/lib/python3.7/dist-packages/torch/nn/functional.py:718: UserWarning: Named tensors and all their associated APIs are an experimental feature and subject to change. Please do not use them for anything important until they are released as stable. (Triggered internally at  /pytorch/c10/core/TensorImpl.h:1156.)\n",
            "  return torch.max_pool2d(input, kernel_size, stride, padding, dilation, ceil_mode)\n"
          ]
        },
        {
          "output_type": "execute_result",
          "data": {
            "text/plain": [
              "==========================================================================================\n",
              "Layer (type:depth-idx)                   Output Shape              Param #\n",
              "==========================================================================================\n",
              "deeplob                                  --                        --\n",
              "├─Sequential: 1-1                        [1, 32, 94, 10]           --\n",
              "│    └─Conv2d: 2-1                       [1, 32, 100, 10]          96\n",
              "│    └─LeakyReLU: 2-2                    [1, 32, 100, 10]          --\n",
              "│    └─BatchNorm2d: 2-3                  [1, 32, 100, 10]          64\n",
              "│    └─Conv2d: 2-4                       [1, 32, 97, 10]           4,128\n",
              "│    └─LeakyReLU: 2-5                    [1, 32, 97, 10]           --\n",
              "│    └─BatchNorm2d: 2-6                  [1, 32, 97, 10]           64\n",
              "│    └─Conv2d: 2-7                       [1, 32, 94, 10]           4,128\n",
              "│    └─LeakyReLU: 2-8                    [1, 32, 94, 10]           --\n",
              "│    └─BatchNorm2d: 2-9                  [1, 32, 94, 10]           64\n",
              "├─Sequential: 1-2                        [1, 32, 88, 5]            --\n",
              "│    └─Conv2d: 2-10                      [1, 32, 94, 5]            2,080\n",
              "│    └─Tanh: 2-11                        [1, 32, 94, 5]            --\n",
              "│    └─BatchNorm2d: 2-12                 [1, 32, 94, 5]            64\n",
              "│    └─Conv2d: 2-13                      [1, 32, 91, 5]            4,128\n",
              "│    └─Tanh: 2-14                        [1, 32, 91, 5]            --\n",
              "│    └─BatchNorm2d: 2-15                 [1, 32, 91, 5]            64\n",
              "│    └─Conv2d: 2-16                      [1, 32, 88, 5]            4,128\n",
              "│    └─Tanh: 2-17                        [1, 32, 88, 5]            --\n",
              "│    └─BatchNorm2d: 2-18                 [1, 32, 88, 5]            64\n",
              "├─Sequential: 1-3                        [1, 32, 82, 1]            --\n",
              "│    └─Conv2d: 2-19                      [1, 32, 88, 1]            5,152\n",
              "│    └─LeakyReLU: 2-20                   [1, 32, 88, 1]            --\n",
              "│    └─BatchNorm2d: 2-21                 [1, 32, 88, 1]            64\n",
              "│    └─Conv2d: 2-22                      [1, 32, 85, 1]            4,128\n",
              "│    └─LeakyReLU: 2-23                   [1, 32, 85, 1]            --\n",
              "│    └─BatchNorm2d: 2-24                 [1, 32, 85, 1]            64\n",
              "│    └─Conv2d: 2-25                      [1, 32, 82, 1]            4,128\n",
              "│    └─LeakyReLU: 2-26                   [1, 32, 82, 1]            --\n",
              "│    └─BatchNorm2d: 2-27                 [1, 32, 82, 1]            64\n",
              "├─Sequential: 1-4                        [1, 64, 82, 1]            --\n",
              "│    └─Conv2d: 2-28                      [1, 64, 82, 1]            2,112\n",
              "│    └─LeakyReLU: 2-29                   [1, 64, 82, 1]            --\n",
              "│    └─BatchNorm2d: 2-30                 [1, 64, 82, 1]            128\n",
              "│    └─Conv2d: 2-31                      [1, 64, 82, 1]            12,352\n",
              "│    └─LeakyReLU: 2-32                   [1, 64, 82, 1]            --\n",
              "│    └─BatchNorm2d: 2-33                 [1, 64, 82, 1]            128\n",
              "├─Sequential: 1-5                        [1, 64, 82, 1]            --\n",
              "│    └─Conv2d: 2-34                      [1, 64, 82, 1]            2,112\n",
              "│    └─LeakyReLU: 2-35                   [1, 64, 82, 1]            --\n",
              "│    └─BatchNorm2d: 2-36                 [1, 64, 82, 1]            128\n",
              "│    └─Conv2d: 2-37                      [1, 64, 82, 1]            20,544\n",
              "│    └─LeakyReLU: 2-38                   [1, 64, 82, 1]            --\n",
              "│    └─BatchNorm2d: 2-39                 [1, 64, 82, 1]            128\n",
              "├─Sequential: 1-6                        [1, 64, 82, 1]            --\n",
              "│    └─MaxPool2d: 2-40                   [1, 32, 82, 1]            --\n",
              "│    └─Conv2d: 2-41                      [1, 64, 82, 1]            2,112\n",
              "│    └─LeakyReLU: 2-42                   [1, 64, 82, 1]            --\n",
              "│    └─BatchNorm2d: 2-43                 [1, 64, 82, 1]            128\n",
              "├─LSTM: 1-7                              [1, 82, 64]               66,048\n",
              "├─Linear: 1-8                            [1, 3]                    195\n",
              "==========================================================================================\n",
              "Total params: 138,787\n",
              "Trainable params: 138,787\n",
              "Non-trainable params: 0\n",
              "Total mult-adds (M): 22.43\n",
              "==========================================================================================\n",
              "Input size (MB): 0.01\n",
              "Forward/backward pass size (MB): 2.78\n",
              "Params size (MB): 0.56\n",
              "Estimated Total Size (MB): 3.34\n",
              "=========================================================================================="
            ]
          },
          "metadata": {},
          "execution_count": 21
        }
      ]
    },
    {
      "cell_type": "code",
      "metadata": {
        "id": "VIijATcb4HDC"
      },
      "source": [
        "criterion = nn.CrossEntropyLoss()\n",
        "optimizer = torch.optim.Adam(model.parameters(), lr=0.0001)"
      ],
      "id": "VIijATcb4HDC",
      "execution_count": 22,
      "outputs": []
    },
    {
      "cell_type": "markdown",
      "metadata": {
        "id": "0GJCOPvo4HDD"
      },
      "source": [
        "# Model Training\n"
      ],
      "id": "0GJCOPvo4HDD"
    },
    {
      "cell_type": "code",
      "metadata": {
        "id": "QEMfJUw84HDD"
      },
      "source": [
        "# A function to encapsulate the training loop\n",
        "def batch_gd(model, criterion, optimizer, train_loader, test_loader, epochs):\n",
        "    \n",
        "    train_losses = np.zeros(epochs)\n",
        "    test_losses = np.zeros(epochs)\n",
        "    best_test_loss = np.inf\n",
        "    best_test_epoch = 0\n",
        "\n",
        "    for it in tqdm(range(epochs)):\n",
        "        \n",
        "        model.train()\n",
        "        t0 = datetime.now()\n",
        "        train_loss = []\n",
        "        for inputs, targets in train_loader:\n",
        "            # move data to GPU\n",
        "            inputs, targets = inputs.to(device, dtype=torch.float), targets.to(device, dtype=torch.int64)\n",
        "            # print(\"inputs.shape:\", inputs.shape)\n",
        "            # zero the parameter gradients\n",
        "            optimizer.zero_grad()\n",
        "            # Forward pass\n",
        "            # print(\"about to get model output\")\n",
        "            outputs = model(inputs)\n",
        "            # print(\"done getting model output\")\n",
        "            # print(\"outputs.shape:\", outputs.shape, \"targets.shape:\", targets.shape)\n",
        "            loss = criterion(outputs, targets)\n",
        "            # Backward and optimize\n",
        "            # print(\"about to optimize\")\n",
        "            loss.backward()\n",
        "            optimizer.step()\n",
        "            train_loss.append(loss.item())\n",
        "        # Get train loss and test loss\n",
        "        train_loss = np.mean(train_loss) # a little misleading\n",
        "    \n",
        "        model.eval()\n",
        "        test_loss = []\n",
        "        for inputs, targets in test_loader:\n",
        "            inputs, targets = inputs.to(device, dtype=torch.float), targets.to(device, dtype=torch.int64)      \n",
        "            outputs = model(inputs)\n",
        "            loss = criterion(outputs, targets)\n",
        "            test_loss.append(loss.item())\n",
        "        test_loss = np.mean(test_loss)\n",
        "\n",
        "        # Save losses\n",
        "        train_losses[it] = train_loss\n",
        "        test_losses[it] = test_loss\n",
        "        \n",
        "        if test_loss < best_test_loss:\n",
        "            torch.save(model, './best_val_model_pytorch_xiyue')\n",
        "            best_test_loss = test_loss\n",
        "            best_test_epoch = it\n",
        "            print('model saved')\n",
        "\n",
        "        dt = datetime.now() - t0\n",
        "        print(f'Epoch {it+1}/{epochs}, Train Loss: {train_loss:.4f}, \\\n",
        "          Validation Loss: {test_loss:.4f}, Duration: {dt}, Best Val Epoch: {best_test_epoch}')\n",
        "\n",
        "    return train_losses, test_losses"
      ],
      "id": "QEMfJUw84HDD",
      "execution_count": 23,
      "outputs": []
    },
    {
      "cell_type": "code",
      "metadata": {
        "colab": {
          "base_uri": "https://localhost:8080/"
        },
        "id": "E_2KdCPu4HDE",
        "scrolled": true,
        "outputId": "35785f0f-491c-49a0-8f40-ff36dcc27dc6"
      },
      "source": [
        "train_losses, val_losses = batch_gd(model, criterion, optimizer, \n",
        "                                    train_loader, val_loader, epochs=50)"
      ],
      "id": "E_2KdCPu4HDE",
      "execution_count": 24,
      "outputs": [
        {
          "output_type": "stream",
          "name": "stderr",
          "text": [
            "  2%|▏         | 1/50 [03:25<2:47:53, 205.58s/it]"
          ]
        },
        {
          "output_type": "stream",
          "name": "stdout",
          "text": [
            "model saved\n",
            "Epoch 1/50, Train Loss: 1.0234,           Validation Loss: 1.0352, Duration: 0:03:25.580844, Best Val Epoch: 0\n"
          ]
        },
        {
          "output_type": "stream",
          "name": "stderr",
          "text": [
            "\r  4%|▍         | 2/50 [06:52<2:44:52, 206.09s/it]"
          ]
        },
        {
          "output_type": "stream",
          "name": "stdout",
          "text": [
            "Epoch 2/50, Train Loss: 0.9607,           Validation Loss: 1.0366, Duration: 0:03:26.447429, Best Val Epoch: 0\n"
          ]
        },
        {
          "output_type": "stream",
          "name": "stderr",
          "text": [
            "\r  6%|▌         | 3/50 [10:19<2:41:51, 206.64s/it]"
          ]
        },
        {
          "output_type": "stream",
          "name": "stdout",
          "text": [
            "Epoch 3/50, Train Loss: 0.9375,           Validation Loss: 1.0472, Duration: 0:03:27.283049, Best Val Epoch: 0\n"
          ]
        },
        {
          "output_type": "stream",
          "name": "stderr",
          "text": [
            "\r  8%|▊         | 4/50 [13:45<2:38:25, 206.64s/it]"
          ]
        },
        {
          "output_type": "stream",
          "name": "stdout",
          "text": [
            "model saved\n",
            "Epoch 4/50, Train Loss: 0.9261,           Validation Loss: 1.0190, Duration: 0:03:26.648765, Best Val Epoch: 3\n"
          ]
        },
        {
          "output_type": "stream",
          "name": "stderr",
          "text": [
            "\r 10%|█         | 5/50 [17:11<2:34:48, 206.42s/it]"
          ]
        },
        {
          "output_type": "stream",
          "name": "stdout",
          "text": [
            "model saved\n",
            "Epoch 5/50, Train Loss: 0.9140,           Validation Loss: 0.9779, Duration: 0:03:26.011054, Best Val Epoch: 4\n"
          ]
        },
        {
          "output_type": "stream",
          "name": "stderr",
          "text": [
            "\r 12%|█▏        | 6/50 [20:38<2:31:21, 206.40s/it]"
          ]
        },
        {
          "output_type": "stream",
          "name": "stdout",
          "text": [
            "Epoch 6/50, Train Loss: 0.9075,           Validation Loss: 1.0093, Duration: 0:03:26.366097, Best Val Epoch: 4\n"
          ]
        },
        {
          "output_type": "stream",
          "name": "stderr",
          "text": [
            "\r 14%|█▍        | 7/50 [24:02<2:27:19, 205.56s/it]"
          ]
        },
        {
          "output_type": "stream",
          "name": "stdout",
          "text": [
            "Epoch 7/50, Train Loss: 0.9027,           Validation Loss: 1.0172, Duration: 0:03:23.841150, Best Val Epoch: 4\n"
          ]
        },
        {
          "output_type": "stream",
          "name": "stderr",
          "text": [
            "\r 16%|█▌        | 8/50 [27:26<2:23:31, 205.04s/it]"
          ]
        },
        {
          "output_type": "stream",
          "name": "stdout",
          "text": [
            "Epoch 8/50, Train Loss: 0.8984,           Validation Loss: 1.0096, Duration: 0:03:23.926087, Best Val Epoch: 4\n"
          ]
        },
        {
          "output_type": "stream",
          "name": "stderr",
          "text": [
            "\r 18%|█▊        | 9/50 [30:51<2:20:16, 205.28s/it]"
          ]
        },
        {
          "output_type": "stream",
          "name": "stdout",
          "text": [
            "Epoch 9/50, Train Loss: 0.8950,           Validation Loss: 0.9951, Duration: 0:03:25.808073, Best Val Epoch: 4\n"
          ]
        },
        {
          "output_type": "stream",
          "name": "stderr",
          "text": [
            "\r 20%|██        | 10/50 [34:15<2:16:35, 204.88s/it]"
          ]
        },
        {
          "output_type": "stream",
          "name": "stdout",
          "text": [
            "Epoch 10/50, Train Loss: 0.8912,           Validation Loss: 1.0201, Duration: 0:03:23.983508, Best Val Epoch: 4\n"
          ]
        },
        {
          "output_type": "stream",
          "name": "stderr",
          "text": [
            "\r 22%|██▏       | 11/50 [37:41<2:13:23, 205.23s/it]"
          ]
        },
        {
          "output_type": "stream",
          "name": "stdout",
          "text": [
            "Epoch 11/50, Train Loss: 0.8877,           Validation Loss: 1.0059, Duration: 0:03:26.014206, Best Val Epoch: 4\n"
          ]
        },
        {
          "output_type": "stream",
          "name": "stderr",
          "text": [
            "\r 24%|██▍       | 12/50 [41:08<2:10:10, 205.53s/it]"
          ]
        },
        {
          "output_type": "stream",
          "name": "stdout",
          "text": [
            "Epoch 12/50, Train Loss: 0.8843,           Validation Loss: 1.0012, Duration: 0:03:26.208822, Best Val Epoch: 4\n"
          ]
        },
        {
          "output_type": "stream",
          "name": "stderr",
          "text": [
            "\r 26%|██▌       | 13/50 [44:32<2:06:35, 205.29s/it]"
          ]
        },
        {
          "output_type": "stream",
          "name": "stdout",
          "text": [
            "Epoch 13/50, Train Loss: 0.8802,           Validation Loss: 1.0192, Duration: 0:03:24.754942, Best Val Epoch: 4\n"
          ]
        },
        {
          "output_type": "stream",
          "name": "stderr",
          "text": [
            "\r 28%|██▊       | 14/50 [47:57<2:03:07, 205.21s/it]"
          ]
        },
        {
          "output_type": "stream",
          "name": "stdout",
          "text": [
            "Epoch 14/50, Train Loss: 0.8764,           Validation Loss: 1.0128, Duration: 0:03:25.022146, Best Val Epoch: 4\n"
          ]
        },
        {
          "output_type": "stream",
          "name": "stderr",
          "text": [
            "\r 30%|███       | 15/50 [51:24<1:59:52, 205.51s/it]"
          ]
        },
        {
          "output_type": "stream",
          "name": "stdout",
          "text": [
            "Epoch 15/50, Train Loss: 0.8727,           Validation Loss: 0.9939, Duration: 0:03:26.187065, Best Val Epoch: 4\n"
          ]
        },
        {
          "output_type": "stream",
          "name": "stderr",
          "text": [
            "\r 32%|███▏      | 16/50 [54:50<1:56:31, 205.62s/it]"
          ]
        },
        {
          "output_type": "stream",
          "name": "stdout",
          "text": [
            "Epoch 16/50, Train Loss: 0.8690,           Validation Loss: 0.9998, Duration: 0:03:25.889829, Best Val Epoch: 4\n"
          ]
        },
        {
          "output_type": "stream",
          "name": "stderr",
          "text": [
            "\r 34%|███▍      | 17/50 [58:14<1:52:49, 205.15s/it]"
          ]
        },
        {
          "output_type": "stream",
          "name": "stdout",
          "text": [
            "Epoch 17/50, Train Loss: 0.8652,           Validation Loss: 0.9912, Duration: 0:03:24.051484, Best Val Epoch: 4\n"
          ]
        },
        {
          "output_type": "stream",
          "name": "stderr",
          "text": [
            "\r 36%|███▌      | 18/50 [1:01:39<1:49:26, 205.22s/it]"
          ]
        },
        {
          "output_type": "stream",
          "name": "stdout",
          "text": [
            "Epoch 18/50, Train Loss: 0.8614,           Validation Loss: 1.0035, Duration: 0:03:25.370524, Best Val Epoch: 4\n"
          ]
        },
        {
          "output_type": "stream",
          "name": "stderr",
          "text": [
            "\r 38%|███▊      | 19/50 [1:05:04<1:46:02, 205.24s/it]"
          ]
        },
        {
          "output_type": "stream",
          "name": "stdout",
          "text": [
            "Epoch 19/50, Train Loss: 0.8579,           Validation Loss: 1.0184, Duration: 0:03:25.284991, Best Val Epoch: 4\n"
          ]
        },
        {
          "output_type": "stream",
          "name": "stderr",
          "text": [
            "\r 40%|████      | 20/50 [1:08:28<1:42:26, 204.87s/it]"
          ]
        },
        {
          "output_type": "stream",
          "name": "stdout",
          "text": [
            "Epoch 20/50, Train Loss: 0.8543,           Validation Loss: 1.0124, Duration: 0:03:24.015145, Best Val Epoch: 4\n"
          ]
        },
        {
          "output_type": "stream",
          "name": "stderr",
          "text": [
            "\r 42%|████▏     | 21/50 [1:11:53<1:38:56, 204.72s/it]"
          ]
        },
        {
          "output_type": "stream",
          "name": "stdout",
          "text": [
            "Epoch 21/50, Train Loss: 0.8514,           Validation Loss: 1.0149, Duration: 0:03:24.347048, Best Val Epoch: 4\n"
          ]
        },
        {
          "output_type": "stream",
          "name": "stderr",
          "text": [
            "\r 44%|████▍     | 22/50 [1:15:17<1:35:25, 204.49s/it]"
          ]
        },
        {
          "output_type": "stream",
          "name": "stdout",
          "text": [
            "Epoch 22/50, Train Loss: 0.8484,           Validation Loss: 1.0234, Duration: 0:03:23.953411, Best Val Epoch: 4\n"
          ]
        },
        {
          "output_type": "stream",
          "name": "stderr",
          "text": [
            "\r 46%|████▌     | 23/50 [1:18:38<1:31:37, 203.60s/it]"
          ]
        },
        {
          "output_type": "stream",
          "name": "stdout",
          "text": [
            "Epoch 23/50, Train Loss: 0.8452,           Validation Loss: 1.0006, Duration: 0:03:21.525595, Best Val Epoch: 4\n"
          ]
        },
        {
          "output_type": "stream",
          "name": "stderr",
          "text": [
            "\r 48%|████▊     | 24/50 [1:21:57<1:27:38, 202.26s/it]"
          ]
        },
        {
          "output_type": "stream",
          "name": "stdout",
          "text": [
            "Epoch 24/50, Train Loss: 0.8428,           Validation Loss: 1.0066, Duration: 0:03:19.120598, Best Val Epoch: 4\n"
          ]
        },
        {
          "output_type": "stream",
          "name": "stderr",
          "text": [
            "\r 50%|█████     | 25/50 [1:25:14<1:23:35, 200.63s/it]"
          ]
        },
        {
          "output_type": "stream",
          "name": "stdout",
          "text": [
            "Epoch 25/50, Train Loss: 0.8403,           Validation Loss: 1.0119, Duration: 0:03:16.837847, Best Val Epoch: 4\n"
          ]
        },
        {
          "output_type": "stream",
          "name": "stderr",
          "text": [
            "\r 52%|█████▏    | 26/50 [1:28:32<1:19:57, 199.88s/it]"
          ]
        },
        {
          "output_type": "stream",
          "name": "stdout",
          "text": [
            "Epoch 26/50, Train Loss: 0.8372,           Validation Loss: 1.0244, Duration: 0:03:18.119912, Best Val Epoch: 4\n"
          ]
        },
        {
          "output_type": "stream",
          "name": "stderr",
          "text": [
            "\r 54%|█████▍    | 27/50 [1:31:48<1:16:11, 198.78s/it]"
          ]
        },
        {
          "output_type": "stream",
          "name": "stdout",
          "text": [
            "Epoch 27/50, Train Loss: 0.8348,           Validation Loss: 1.0121, Duration: 0:03:16.200460, Best Val Epoch: 4\n"
          ]
        },
        {
          "output_type": "stream",
          "name": "stderr",
          "text": [
            "\r 56%|█████▌    | 28/50 [1:35:05<1:12:39, 198.14s/it]"
          ]
        },
        {
          "output_type": "stream",
          "name": "stdout",
          "text": [
            "Epoch 28/50, Train Loss: 0.8323,           Validation Loss: 0.9971, Duration: 0:03:16.658241, Best Val Epoch: 4\n"
          ]
        },
        {
          "output_type": "stream",
          "name": "stderr",
          "text": [
            "\r 58%|█████▊    | 29/50 [1:38:21<1:09:04, 197.37s/it]"
          ]
        },
        {
          "output_type": "stream",
          "name": "stdout",
          "text": [
            "Epoch 29/50, Train Loss: 0.8302,           Validation Loss: 1.0141, Duration: 0:03:15.580800, Best Val Epoch: 4\n"
          ]
        },
        {
          "output_type": "stream",
          "name": "stderr",
          "text": [
            "\r 60%|██████    | 30/50 [1:41:37<1:05:43, 197.19s/it]"
          ]
        },
        {
          "output_type": "stream",
          "name": "stdout",
          "text": [
            "Epoch 30/50, Train Loss: 0.8282,           Validation Loss: 1.0162, Duration: 0:03:16.769603, Best Val Epoch: 4\n"
          ]
        },
        {
          "output_type": "stream",
          "name": "stderr",
          "text": [
            "\r 62%|██████▏   | 31/50 [1:44:53<1:02:16, 196.64s/it]"
          ]
        },
        {
          "output_type": "stream",
          "name": "stdout",
          "text": [
            "Epoch 31/50, Train Loss: 0.8260,           Validation Loss: 1.0097, Duration: 0:03:15.339678, Best Val Epoch: 4\n"
          ]
        },
        {
          "output_type": "stream",
          "name": "stderr",
          "text": [
            "\r 64%|██████▍   | 32/50 [1:48:09<58:58, 196.57s/it]  "
          ]
        },
        {
          "output_type": "stream",
          "name": "stdout",
          "text": [
            "Epoch 32/50, Train Loss: 0.8245,           Validation Loss: 1.0255, Duration: 0:03:16.395892, Best Val Epoch: 4\n"
          ]
        },
        {
          "output_type": "stream",
          "name": "stderr",
          "text": [
            "\r 66%|██████▌   | 33/50 [1:51:25<55:39, 196.44s/it]"
          ]
        },
        {
          "output_type": "stream",
          "name": "stdout",
          "text": [
            "Epoch 33/50, Train Loss: 0.8222,           Validation Loss: 1.0173, Duration: 0:03:16.142266, Best Val Epoch: 4\n"
          ]
        },
        {
          "output_type": "stream",
          "name": "stderr",
          "text": [
            "\r 68%|██████▊   | 34/50 [1:54:44<52:32, 197.00s/it]"
          ]
        },
        {
          "output_type": "stream",
          "name": "stdout",
          "text": [
            "Epoch 34/50, Train Loss: 0.8204,           Validation Loss: 1.0172, Duration: 0:03:18.319469, Best Val Epoch: 4\n"
          ]
        },
        {
          "output_type": "stream",
          "name": "stderr",
          "text": [
            "\r 70%|███████   | 35/50 [1:57:59<49:06, 196.44s/it]"
          ]
        },
        {
          "output_type": "stream",
          "name": "stdout",
          "text": [
            "Epoch 35/50, Train Loss: 0.8186,           Validation Loss: 1.0219, Duration: 0:03:15.133833, Best Val Epoch: 4\n"
          ]
        },
        {
          "output_type": "stream",
          "name": "stderr",
          "text": [
            "\r 72%|███████▏  | 36/50 [2:01:17<45:57, 196.96s/it]"
          ]
        },
        {
          "output_type": "stream",
          "name": "stdout",
          "text": [
            "Epoch 36/50, Train Loss: 0.8169,           Validation Loss: 1.0304, Duration: 0:03:18.154164, Best Val Epoch: 4\n"
          ]
        },
        {
          "output_type": "stream",
          "name": "stderr",
          "text": [
            "\r 74%|███████▍  | 37/50 [2:04:37<42:53, 197.99s/it]"
          ]
        },
        {
          "output_type": "stream",
          "name": "stdout",
          "text": [
            "Epoch 37/50, Train Loss: 0.8155,           Validation Loss: 1.0205, Duration: 0:03:20.390025, Best Val Epoch: 4\n"
          ]
        },
        {
          "output_type": "stream",
          "name": "stderr",
          "text": [
            "\r 76%|███████▌  | 38/50 [2:07:59<39:48, 199.08s/it]"
          ]
        },
        {
          "output_type": "stream",
          "name": "stdout",
          "text": [
            "Epoch 38/50, Train Loss: 0.8137,           Validation Loss: 1.0263, Duration: 0:03:21.631454, Best Val Epoch: 4\n"
          ]
        },
        {
          "output_type": "stream",
          "name": "stderr",
          "text": [
            "\r 78%|███████▊  | 39/50 [2:11:18<36:30, 199.14s/it]"
          ]
        },
        {
          "output_type": "stream",
          "name": "stdout",
          "text": [
            "Epoch 39/50, Train Loss: 0.8120,           Validation Loss: 1.0232, Duration: 0:03:19.285620, Best Val Epoch: 4\n"
          ]
        },
        {
          "output_type": "stream",
          "name": "stderr",
          "text": [
            "\r 80%|████████  | 40/50 [2:14:38<33:13, 199.32s/it]"
          ]
        },
        {
          "output_type": "stream",
          "name": "stdout",
          "text": [
            "Epoch 40/50, Train Loss: 0.8105,           Validation Loss: 1.0112, Duration: 0:03:19.723999, Best Val Epoch: 4\n"
          ]
        },
        {
          "output_type": "stream",
          "name": "stderr",
          "text": [
            "\r 82%|████████▏ | 41/50 [2:17:58<29:56, 199.64s/it]"
          ]
        },
        {
          "output_type": "stream",
          "name": "stdout",
          "text": [
            "Epoch 41/50, Train Loss: 0.8088,           Validation Loss: 1.0184, Duration: 0:03:20.389640, Best Val Epoch: 4\n"
          ]
        },
        {
          "output_type": "stream",
          "name": "stderr",
          "text": [
            "\r 84%|████████▍ | 42/50 [2:21:17<26:35, 199.46s/it]"
          ]
        },
        {
          "output_type": "stream",
          "name": "stdout",
          "text": [
            "Epoch 42/50, Train Loss: 0.8077,           Validation Loss: 1.0160, Duration: 0:03:19.029045, Best Val Epoch: 4\n"
          ]
        },
        {
          "output_type": "stream",
          "name": "stderr",
          "text": [
            "\r 86%|████████▌ | 43/50 [2:24:37<23:16, 199.47s/it]"
          ]
        },
        {
          "output_type": "stream",
          "name": "stdout",
          "text": [
            "Epoch 43/50, Train Loss: 0.8065,           Validation Loss: 1.0193, Duration: 0:03:19.511965, Best Val Epoch: 4\n"
          ]
        },
        {
          "output_type": "stream",
          "name": "stderr",
          "text": [
            "\r 88%|████████▊ | 44/50 [2:27:57<19:57, 199.62s/it]"
          ]
        },
        {
          "output_type": "stream",
          "name": "stdout",
          "text": [
            "Epoch 44/50, Train Loss: 0.8049,           Validation Loss: 1.0183, Duration: 0:03:19.968400, Best Val Epoch: 4\n"
          ]
        },
        {
          "output_type": "stream",
          "name": "stderr",
          "text": [
            "\r 90%|█████████ | 45/50 [2:31:17<16:38, 199.75s/it]"
          ]
        },
        {
          "output_type": "stream",
          "name": "stdout",
          "text": [
            "Epoch 45/50, Train Loss: 0.8039,           Validation Loss: 1.0195, Duration: 0:03:20.052138, Best Val Epoch: 4\n"
          ]
        },
        {
          "output_type": "stream",
          "name": "stderr",
          "text": [
            "\r 92%|█████████▏| 46/50 [2:34:36<13:18, 199.65s/it]"
          ]
        },
        {
          "output_type": "stream",
          "name": "stdout",
          "text": [
            "Epoch 46/50, Train Loss: 0.8027,           Validation Loss: 1.0261, Duration: 0:03:19.417480, Best Val Epoch: 4\n"
          ]
        },
        {
          "output_type": "stream",
          "name": "stderr",
          "text": [
            "\r 94%|█████████▍| 47/50 [2:37:55<09:58, 199.45s/it]"
          ]
        },
        {
          "output_type": "stream",
          "name": "stdout",
          "text": [
            "Epoch 47/50, Train Loss: 0.8014,           Validation Loss: 1.0277, Duration: 0:03:18.958811, Best Val Epoch: 4\n"
          ]
        },
        {
          "output_type": "stream",
          "name": "stderr",
          "text": [
            "\r 96%|█████████▌| 48/50 [2:41:16<06:39, 199.88s/it]"
          ]
        },
        {
          "output_type": "stream",
          "name": "stdout",
          "text": [
            "Epoch 48/50, Train Loss: 0.8001,           Validation Loss: 1.0195, Duration: 0:03:20.886300, Best Val Epoch: 4\n"
          ]
        },
        {
          "output_type": "stream",
          "name": "stderr",
          "text": [
            "\r 98%|█████████▊| 49/50 [2:44:35<03:19, 199.53s/it]"
          ]
        },
        {
          "output_type": "stream",
          "name": "stdout",
          "text": [
            "Epoch 49/50, Train Loss: 0.7988,           Validation Loss: 1.0246, Duration: 0:03:18.728103, Best Val Epoch: 4\n"
          ]
        },
        {
          "output_type": "stream",
          "name": "stderr",
          "text": [
            "100%|██████████| 50/50 [2:47:57<00:00, 201.54s/it]"
          ]
        },
        {
          "output_type": "stream",
          "name": "stdout",
          "text": [
            "Epoch 50/50, Train Loss: 0.7978,           Validation Loss: 1.0300, Duration: 0:03:21.791739, Best Val Epoch: 4\n"
          ]
        },
        {
          "output_type": "stream",
          "name": "stderr",
          "text": [
            "\n"
          ]
        }
      ]
    },
    {
      "cell_type": "code",
      "metadata": {
        "id": "pZ0LDEHT4HDE",
        "colab": {
          "base_uri": "https://localhost:8080/",
          "height": 391
        },
        "outputId": "b2ebf0fe-5d1c-4b2d-c39a-2e77786fa7df"
      },
      "source": [
        "plt.figure(figsize=(15,6))\n",
        "plt.plot(train_losses, label='train loss')\n",
        "plt.plot(val_losses, label='validation loss')\n",
        "plt.legend()"
      ],
      "id": "pZ0LDEHT4HDE",
      "execution_count": 25,
      "outputs": [
        {
          "output_type": "execute_result",
          "data": {
            "text/plain": [
              "<matplotlib.legend.Legend at 0x7f9524642210>"
            ]
          },
          "metadata": {},
          "execution_count": 25
        },
        {
          "output_type": "display_data",
          "data": {
            "image/png": "[encoded data removed]",
            "text/plain": [
              "<Figure size 1080x432 with 1 Axes>"
            ]
          },
          "metadata": {
            "needs_background": "light"
          }
        }
      ]
    },
    {
      "cell_type": "markdown",
      "metadata": {
        "id": "J2ybMMzA4HDF"
      },
      "source": [
        "# Model Testing"
      ],
      "id": "J2ybMMzA4HDF"
    },
    {
      "cell_type": "code",
      "metadata": {
        "id": "0DWzMG4i4HDF",
        "colab": {
          "base_uri": "https://localhost:8080/"
        },
        "outputId": "b9901305-77b9-4bfe-d815-605c64511269"
      },
      "source": [
        "model = torch.load('best_val_model_pytorch_xiyue')\n",
        "\n",
        "n_correct = 0.\n",
        "n_total = 0.\n",
        "for inputs, targets in test_loader:\n",
        "    # Move to GPU\n",
        "    inputs, targets = inputs.to(device, dtype=torch.float), targets.to(device, dtype=torch.int64)\n",
        "\n",
        "    # Forward pass\n",
        "    outputs = model(inputs)\n",
        "    \n",
        "    # Get prediction\n",
        "    # torch.max returns both max and argmax\n",
        "    _, predictions = torch.max(outputs, 1)\n",
        "\n",
        "    # update counts\n",
        "    n_correct += (predictions == targets).sum().item()\n",
        "    n_total += targets.shape[0]\n",
        "\n",
        "test_acc = n_correct / n_total\n",
        "print(f\"Test acc: {test_acc:.4f}\")"
      ],
      "id": "0DWzMG4i4HDF",
      "execution_count": 27,
      "outputs": [
        {
          "output_type": "stream",
          "name": "stdout",
          "text": [
            "Test acc: 0.4911\n"
          ]
        }
      ]
    },
    {
      "cell_type": "code",
      "metadata": {
        "id": "7g0wM2F34HDF"
      },
      "source": [
        "# model = torch.load('best_val_model_pytorch')\n",
        "all_targets = []\n",
        "all_predictions = []\n",
        "\n",
        "for inputs, targets in test_loader:\n",
        "    # Move to GPU\n",
        "    inputs, targets = inputs.to(device, dtype=torch.float), targets.to(device, dtype=torch.int64)\n",
        "\n",
        "    # Forward pass\n",
        "    outputs = model(inputs)\n",
        "    \n",
        "    # Get prediction\n",
        "    # torch.max returns both max and argmax\n",
        "    _, predictions = torch.max(outputs, 1)\n",
        "\n",
        "    all_targets.append(targets.cpu().numpy())\n",
        "    all_predictions.append(predictions.cpu().numpy())\n",
        "\n",
        "all_targets = np.concatenate(all_targets)    \n",
        "all_predictions = np.concatenate(all_predictions)    "
      ],
      "id": "7g0wM2F34HDF",
      "execution_count": 28,
      "outputs": []
    },
    {
      "cell_type": "code",
      "metadata": {
        "id": "FnWGwHFa4HDG",
        "scrolled": true,
        "colab": {
          "base_uri": "https://localhost:8080/"
        },
        "outputId": "dcf5637d-e414-4353-8a67-d6d9854e0ca3"
      },
      "source": [
        "print('accuracy_score:', accuracy_score(all_targets, all_predictions))\n",
        "print(classification_report(all_targets, all_predictions, digits=4))"
      ],
      "id": "FnWGwHFa4HDG",
      "execution_count": 29,
      "outputs": [
        {
          "output_type": "stream",
          "name": "stdout",
          "text": [
            "accuracy_score: 0.49106341411901366\n",
            "              precision    recall  f1-score   support\n",
            "\n",
            "           0     0.3454    0.5533    0.4253     18391\n",
            "           1     0.6091    0.5833    0.5959     38429\n",
            "           2     0.4854    0.2435    0.3243     18936\n",
            "\n",
            "    accuracy                         0.4911     75756\n",
            "   macro avg     0.4800    0.4600    0.4485     75756\n",
            "weighted avg     0.5142    0.4911    0.4866     75756\n",
            "\n"
          ]
        }
      ]
    },
    {
      "cell_type": "code",
      "metadata": {
        "id": "nhPne-3C4HDH"
      },
      "source": [
        ""
      ],
      "id": "nhPne-3C4HDH",
      "execution_count": null,
      "outputs": []
    },
    {
      "cell_type": "code",
      "metadata": {
        "id": "gTMsNKIt4HDH"
      },
      "source": [
        ""
      ],
      "id": "gTMsNKIt4HDH",
      "execution_count": null,
      "outputs": []
    },
    {
      "cell_type": "code",
      "metadata": {
        "id": "SINa4Lth4HDH"
      },
      "source": [
        ""
      ],
      "id": "SINa4Lth4HDH",
      "execution_count": null,
      "outputs": []
    }
  ]
}